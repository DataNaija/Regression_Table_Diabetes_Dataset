{
 "cells": [
  {
   "cell_type": "markdown",
   "metadata": {},
   "source": [
    "## Linear Regression Using One Explanatory Variable"
   ]
  },
  {
   "cell_type": "code",
   "execution_count": 14,
   "metadata": {
    "metadata": {}
   },
   "outputs": [],
   "source": [
    "# Predicting the Calories with Pulse using Linear Regression\n",
    "\n",
    "import pandas as pd\n",
    "import matplotlib.pyplot as plt\n",
    "from scipy import stats"
   ]
  },
  {
   "cell_type": "code",
   "execution_count": 15,
   "metadata": {
    "metadata": {}
   },
   "outputs": [
    {
     "data": {
      "image/png": "[encoded data removed]",
      "text/plain": [
       "<Figure size 640x480 with 1 Axes>"
      ]
     },
     "metadata": {},
     "output_type": "display_data"
    }
   ],
   "source": [
    "data_reg = pd.read_csv(\"data.csv\")\n",
    "\n",
    "x = data_reg[\"Pulse\"]\n",
    "y = data_reg[\"Calories\"]\n",
    "\n",
    "slope, intercept, r, p, std_err = stats.linregress(x, y)\n",
    "\n",
    "def myfunc(x):\n",
    "    return slope * x + intercept\n",
    "\n",
    "mymodel = list(map(myfunc, x))\n",
    "\n",
    "plt.scatter(x,y)\n",
    "plt.plot(x, slope*x + intercept)\n",
    "plt.ylim(ymin=0, ymax=2000)\n",
    "plt.xlim(xmin=0,xmax=200)\n",
    "plt.xlabel(\"Pulse\")\n",
    "plt.ylabel(\"Calorie\")\n",
    "plt.show()"
   ]
  },
  {
   "cell_type": "code",
   "execution_count": 17,
   "metadata": {
    "metadata": {}
   },
   "outputs": [
    {
     "name": "stdout",
     "output_type": "stream",
     "text": [
      "                            OLS Regression Results                            \n",
      "==============================================================================\n",
      "Dep. Variable:               Calories   R-squared:                       0.001\n",
      "Model:                            OLS   Adj. R-squared:                 -0.006\n",
      "Method:                 Least Squares   F-statistic:                    0.1023\n",
      "Date:                Wed, 17 Apr 2024   Prob (F-statistic):              0.750\n",
      "Time:                        21:23:05   Log-Likelihood:                -1148.1\n",
      "No. Observations:                 164   AIC:                             2300.\n",
      "Df Residuals:                     162   BIC:                             2306.\n",
      "Df Model:                           1                                         \n",
      "Covariance Type:            nonrobust                                         \n",
      "==============================================================================\n",
      "                 coef    std err          t      P>|t|      [0.025      0.975]\n",
      "------------------------------------------------------------------------------\n",
      "Intercept    326.5641    155.315      2.103      0.037      19.861     633.267\n",
      "Pulse          0.4572      1.429      0.320      0.750      -2.365       3.280\n",
      "==============================================================================\n",
      "Omnibus:                      131.881   Durbin-Watson:                   1.631\n",
      "Prob(Omnibus):                  0.000   Jarque-Bera (JB):             1154.037\n",
      "Skew:                           3.066   Prob(JB):                    2.54e-251\n",
      "Kurtosis:                      14.457   Cond. No.                         809.\n",
      "==============================================================================\n",
      "\n",
      "Notes:\n",
      "[1] Standard Errors assume that the covariance matrix of the errors is correctly specified.\n"
     ]
    }
   ],
   "source": [
    "# Create a Linear Regression Table in Python\n",
    "import pandas as pd\n",
    "import statsmodels.formula.api as smf\n",
    "\n",
    "data_tab = pd.read_csv(\"data.csv\", header=0, sep=\",\")\n",
    "\n",
    "model = smf.ols('Calories ~ Pulse', data = data_tab) # OLS --Ordinary Least Square. Notice the explanatory variable must be written first in the parenthesis\n",
    "results = model.fit() # This hold a lot of information about the regression model\n",
    "\n",
    "print(results.summary()) # To get the table with the result of linear regression"
   ]
  },
  {
   "cell_type": "markdown",
   "metadata": {},
   "source": [
    "## Result explanation\n",
    "### Coeficient of 0.4572, which means that Pulse has a very small effect on Calories.\n",
    "### High P-value(0.750), which means that we cannot conclude a relationship between Pulse and Calories.\n",
    "### R-Squared value of 0.001, which means that the linear regression function line does not fit the data well as can be ### seen in the plot above."
   ]
  },
  {
   "cell_type": "code",
   "execution_count": 18,
   "metadata": {
    "metadata": {}
   },
   "outputs": [
    {
     "name": "stdout",
     "output_type": "stream",
     "text": [
      "381.4281\n",
      "386.0001\n",
      "395.1441\n",
      "408.8601\n"
     ]
    }
   ],
   "source": [
    "# Define the Linear Regression Function in Python\n",
    "# what is Calori if average pulse is: 120, 130, 150, 180?\n",
    "\n",
    "def Predict_Calorie_Burnage(Pulse):\n",
    "    return (0.4572 * Pulse + 326.5641)\n",
    "\n",
    "print(Predict_Calorie_Burnage(120))\n",
    "print(Predict_Calorie_Burnage(130))\n",
    "print(Predict_Calorie_Burnage(150))\n",
    "print(Predict_Calorie_Burnage(180))"
   ]
  },
  {
   "cell_type": "code",
   "execution_count": null,
   "metadata": {},
   "outputs": [],
   "source": []
  }
 ],
 "metadata": {
  "kernelspec": {
   "display_name": "Python 3",
   "language": "python",
   "name": "python3"
  },
  "language_info": {
   "codemirror_mode": {
    "name": "ipython",
    "version": 3
   },
   "file_extension": ".py",
   "mimetype": "text/x-python",
   "name": "python",
   "nbconvert_exporter": "python",
   "pygments_lexer": "ipython3",
   "version": "3.12.1"
  }
 },
 "nbformat": 4,
 "nbformat_minor": 2
}
